{
 "cells": [
  {
   "cell_type": "code",
   "execution_count": 6,
   "id": "e83a8272-6f8f-4efe-bc68-aec1e15034fc",
   "metadata": {},
   "outputs": [
    {
     "data": {
      "text/markdown": [
       "I am not aware.\n"
      ],
      "text/plain": [
       "<IPython.core.display.Markdown object>"
      ]
     },
     "metadata": {},
     "output_type": "display_data"
    },
    {
     "data": {
      "text/markdown": [
       "## --Cricket Fanatic Channel--\n",
       "\n",
       "### I am not aware of this person. I only answer cricket-related questions.\n"
      ],
      "text/plain": [
       "<IPython.core.display.Markdown object>"
      ]
     },
     "metadata": {},
     "output_type": "display_data"
    }
   ],
   "source": [
    "### Creating single agent #####\n",
    "import os\n",
    "import asyncio\n",
    "from openai import AsyncOpenAI\n",
    "from dotenv import load_dotenv\n",
    "from IPython.display import Markdown, display\n",
    "from agents import Agent, Runner, function_tool, Trace, input_guardrail, output_guardrail, FunctionTool, GuardrailFunctionOutput, OpenAIChatCompletionsModel\n",
    "from typing import Dict\n",
    "from pydantic import BaseModel\n",
    "import os\n",
    "\n",
    "# STEP 1: Load environment variables\n",
    "load_dotenv()\n",
    "google_api_key = os.getenv(\"GOOGLE_API_KEY\")\n",
    "\n",
    "if not google_api_key:\n",
    "    raise ValueError(\"❌ GOOGLE_API_KEY not found! Please add it to your .env file.\")\n",
    "\n",
    "base_url = \"https://generativelanguage.googleapis.com/v1beta/openai/\"\n",
    "model_name = \"gemini-2.0-flash\"\n",
    "\n",
    "# Initialize Gemini client\n",
    "gemini_client = AsyncOpenAI(api_key=google_api_key, base_url=base_url)\n",
    "\n",
    "# STEP 2: Define agent prompts\n",
    "cricket_system_prompt = (\n",
    "    \"You are a cricket expert. You know everything about players, records, scores, \"\n",
    "    \"and historical matches. Answer only cricket-related questions. \"\n",
    "    \"If the user question is about a subject apart from cricket, \"\n",
    "    \"you should NOT answer and say you are not aware. Only focus on cricket topics.\"\n",
    ")\n",
    "\n",
    "bollywood_system_prompt = (\n",
    "    \"You are a Bollywood expert. You know about actors, directors, blockbusters, \"\n",
    "    \"and recent films. Answer only Bollywood-related questions. \"\n",
    "    \"If the user question is about a subject apart from Bollywood, \"\n",
    "    \"you should NOT answer and reply — I am not aware. \"\n",
    "    \"Only focus on Bollywood-related questions.\"\n",
    ")\n",
    "\n",
    "# STEP 3: Ask a test question\n",
    "messages = \"Who is Akshay Kumar?\"\n",
    "\n",
    "# FIX: include cricket_system_prompt as system role so it doesn't answer non-cricket queries\n",
    "response = await gemini_client.chat.completions.create(\n",
    "    model=model_name,\n",
    "    messages=[\n",
    "        {\"role\": \"system\", \"content\": cricket_system_prompt},\n",
    "        {\"role\": \"user\", \"content\": messages}\n",
    "    ]\n",
    ")\n",
    "\n",
    "answer = response.choices[0].message.content\n",
    "display(Markdown(answer))\n",
    "\n",
    "gemini_model = OpenAIChatCompletionsModel(model=\"gemini-2.0-flash\", openai_client=gemini_client)\n",
    "\n",
    "competitors = []\n",
    "answers = []\n",
    "competitors.append(model_name)\n",
    "answers.append(answer)\n",
    "\n",
    "CricAgent = Agent(name=\"Cricket genuine agent\", instructions=cricket_system_prompt, model=gemini_model)\n",
    "\n",
    "response_2 = await Runner.run(CricAgent, messages)\n",
    "result = response_2\n",
    "\n",
    "display(Markdown(f\"## --Cricket Fanatic Channel--\\n\\n### {result.final_output}\"))\n"
   ]
  },
  {
   "cell_type": "code",
   "execution_count": 3,
   "id": "bb1d2752-5030-4389-a218-98bee8244042",
   "metadata": {},
   "outputs": [
    {
     "data": {
      "text/markdown": [
       "## --Cricket Fanatic Channel--\n",
       "\n",
       "### I am not aware.\n"
      ],
      "text/plain": [
       "<IPython.core.display.Markdown object>"
      ]
     },
     "metadata": {},
     "output_type": "display_data"
    },
    {
     "data": {
      "text/markdown": [
       "## --Bollywood Fanatic Channel--\n",
       "\n",
       "### Akshay Kumar is a highly successful Indian actor, producer, and television personality who primarily works in Bollywood films. He's known for his action, comedy, and patriotic roles, and has starred in over 100 films throughout his career. Some of his notable films include \"Hera Pheri,\" \"Namastey London,\" \"Singh Is Kinng,\" \"Housefull,\" \"Special 26,\" \"Airlift,\" \"Toilet: Ek Prem Katha,\" \"Kesari,\" \"Mission Mangal,\" and \"Sooryavanshi.\" He is considered one of the most bankable and versatile actors in the Hindi film industry.\n"
      ],
      "text/plain": [
       "<IPython.core.display.Markdown object>"
      ]
     },
     "metadata": {},
     "output_type": "display_data"
    }
   ],
   "source": [
    "## Creating two agents and run them ###\n",
    "\n",
    "import os\n",
    "import asyncio\n",
    "from openai import AsyncOpenAI\n",
    "from dotenv import load_dotenv\n",
    "from IPython.display import Markdown, display\n",
    "from agents import Agent, Runner, function_tool, Trace, input_guardrail, output_guardrail, FunctionTool, GuardrailFunctionOutput, OpenAIChatCompletionsModel\n",
    "from typing import Dict\n",
    "from pydantic import BaseModel\n",
    "import os\n",
    "\n",
    "# STEP 1: Load environment variables\n",
    "load_dotenv()\n",
    "google_api_key = os.getenv(\"GOOGLE_API_KEY\")\n",
    "\n",
    "if not google_api_key:\n",
    "    raise ValueError(\"❌ GOOGLE_API_KEY not found! Please add it to your .env file.\")\n",
    "\n",
    "base_url = \"https://generativelanguage.googleapis.com/v1beta/openai/\"\n",
    "model_name = \"gemini-2.0-flash\"\n",
    "\n",
    "# Initialize Gemini client\n",
    "gemini_client = AsyncOpenAI(api_key=google_api_key, base_url=base_url)\n",
    "\n",
    "# STEP 2: Define agent prompts\n",
    "cricket_system_prompt = (\n",
    "    \"You are a cricket expert. You know everything about players, records, scores, \"\n",
    "    \"and historical matches. Answer only cricket-related questions. \"\n",
    "    \"If the user question is about a subject apart from cricket, \"\n",
    "    \"you should NOT answer and say you are not aware. Only focus on cricket topics.\"\n",
    ")\n",
    "\n",
    "bollywood_system_prompt = (\n",
    "    \"You are a Bollywood expert. You know about actors, directors, blockbusters, \"\n",
    "    \"and recent films. Answer only Bollywood-related questions. \"\n",
    "    \"If the user question is about a subject apart from Bollywood, \"\n",
    "    \"you should NOT answer and reply — I am not aware. \"\n",
    "    \"Only focus on Bollywood-related questions.\"\n",
    ")\n",
    "\n",
    "# STEP 3: Ask a test question\n",
    "messages = \"Who is Akshay Kumar?\"\n",
    "\n",
    "# FIX: include cricket_system_prompt as system role so it doesn't answer non-cricket queries\n",
    "response = await gemini_client.chat.completions.create(\n",
    "    model=model_name,\n",
    "    messages=[\n",
    "        {\"role\": \"system\", \"content\": cricket_system_prompt},\n",
    "        {\"role\": \"user\", \"content\": messages}\n",
    "    ]\n",
    ")\n",
    "\n",
    "answer = response.choices[0].message.content\n",
    "#display(Markdown(answer))\n",
    "\n",
    "gemini_model = OpenAIChatCompletionsModel(model=\"gemini-2.0-flash\", openai_client=gemini_client)\n",
    "\n",
    "competitors = []\n",
    "answers = []\n",
    "competitors.append(model_name)\n",
    "answers.append(answer)\n",
    "\n",
    "CricAgent = Agent(name=\"Cricket genuine agent\", instructions=cricket_system_prompt, model=gemini_model)\n",
    "BollyAgent = Agent(name=\"Bollywood genuine agent\", instructions=bollywood_system_prompt, model=gemini_model)\n",
    "\n",
    "response = await Runner.run(CricAgent, messages)\n",
    "result = response\n",
    "\n",
    "response_2 = await Runner.run(BollyAgent, messages)\n",
    "result_1 = response_2\n",
    "\n",
    "display(Markdown(f\"## --Cricket Fanatic Channel--\\n\\n### {result.final_output}\"))\n",
    "display(Markdown(f\"## --Bollywood Fanatic Channel--\\n\\n### {result_1.final_output}\"))\n"
   ]
  },
  {
   "cell_type": "code",
   "execution_count": null,
   "id": "353d8b45-a82e-4ff0-a1d1-9da1a7674576",
   "metadata": {},
   "outputs": [],
   "source": []
  }
 ],
 "metadata": {
  "kernelspec": {
   "display_name": "Python 3 (ipykernel)",
   "language": "python",
   "name": "python3"
  },
  "language_info": {
   "codemirror_mode": {
    "name": "ipython",
    "version": 3
   },
   "file_extension": ".py",
   "mimetype": "text/x-python",
   "name": "python",
   "nbconvert_exporter": "python",
   "pygments_lexer": "ipython3",
   "version": "3.13.9"
  }
 },
 "nbformat": 4,
 "nbformat_minor": 5
}
